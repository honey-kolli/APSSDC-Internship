{
 "cells": [
  {
   "cell_type": "markdown",
   "metadata": {},
   "source": [
    "#TASK\n",
    "\n",
    "1. Program to check whether a user is eligible to vote or not\n",
    "2. Check the given number is positive or negative\n",
    "3. Check the given number is even or odd and if its even check whether it is divisible by 4 or not\n",
    "4. Write a program to print student grade based on percentage like Distinction, pass or fail.\n",
    "5. Check whether the given year is leap year or not.\n"
   ]
 },
{
 "cells": [
  {
   "cell_type": "code",
   "execution_count": 6,
   "metadata": {},
   "outputs": [
    {
     "name": "stdout",
     "output_type": "stream",
     "text": [
      "enter age: -5\n",
      "Please, enter a valid number!\n"
     ]
    }
   ],
   "source": [
    "# program to check whether user is eligible to vote or not\n",
    "\n",
    "age=int(input(\"enter age: \"))\n",
    "\n",
    "if(age>=18):\n",
    "    print(\"User is eligible to vote!\")\n",
    "elif (age <= 0):\n",
    "    print(\"Please enter a valid number!\")\n",
    "else:\n",
    "    print(\"Sorry, Your age is not eligible for voting!\")"
   ]
  },
  {
   "cell_type": "code",
   "execution_count": 13,
   "metadata": {},
   "outputs": [
    {
     "name": "stdout",
     "output_type": "stream",
     "text": [
      "Enter any number: -9\n",
      "Given number is negative..\n"
     ]
    }
   ],
   "source": [
    "#program to check if given number is postive or negative\n",
    "\n",
    "num =int(input(\"Enter any number: \"))\n",
    "\n",
    "if(num >0):\n",
    "    print(\"The given number is positive..\")\n",
    "elif num ==0:\n",
    "    print(\"o is neither negative nor positive..\")\n",
    "else:\n",
    "    print(\"Given number is negative..\")"
   ]
  },
  {
   "cell_type": "code",
   "execution_count": 15,
   "metadata": {},
   "outputs": [
    {
     "name": "stdout",
     "output_type": "stream",
     "text": [
      "Enter any number: 56\n",
      "the given number is even and divisible by 4.....\n"
     ]
    }
   ],
   "source": [
    "#program to check if the given number is even or odd\n",
    "\n",
    "num = int(input(\"Enter any number: \"))\n",
    "if (num % 2== 0):\n",
    "    if (num %4 == 0):\n",
    "        print(\"the given number is even and divisible by 4.....\")\n",
    "    else:\n",
    "        print(\"the given number is even but not divisble by 4..\")\n",
    "else:\n",
    "    print(\"the given number is odd....\")"
   ]
  },
  {
   "cell_type": "code",
   "execution_count": 16,
   "metadata": {},
   "outputs": [
    {
     "name": "stdout",
     "output_type": "stream",
     "text": [
      "Enter year: 2024\n",
      "The given year is a leap year.\n"
     ]
    }
   ],
   "source": [
    "# Program  to determine whether the given year is leap year or not\n",
    "\n",
    "year=int(input(\"Enter year: \"))\n",
    "\n",
    "if year%4==0:\n",
    "    if year%100==0:\n",
    "        if year%400==0:\n",
    "            print(\"The given year is a leap year.\")\n",
    "        else:\n",
    "            print(\"The given year is not a leap year.\")\n",
    "    else:\n",
    "        print(\"The given year is a leap year.\")\n",
    "else:\n",
    "    print(\"The given year is not a leap year.\")"
   ]
  },
  {
   "cell_type": "code",
   "execution_count": 17,
   "metadata": {},
   "outputs": [
    {
     "name": "stdout",
     "output_type": "stream",
     "text": [
      "Enter Number of Subjects: 5\n",
      "Enter Marks of subject 1: 99\n",
      "Enter Marks of subject 2: 98\n",
      "Enter Marks of subject 3: 96\n",
      "Enter Marks of subject 4: 92\n",
      "Enter Marks of subject 5: 95\n",
      "96.0\n",
      "Hurray..You passed with Distinction\n"
     ]
    }
   ],
   "source": [
    "# Program to check the grade of the student using percentage\n",
    "\n",
    "subjects=int(input(\"Enter Number of Subjects: \"))\n",
    "sum1=0\n",
    "\n",
    "for i in range(subjects):\n",
    "    s=int(input(\"Enter Marks of subject {}: \".format(i+1)))\n",
    "    sum1=sum1+s\n",
    "\n",
    "per=(sum1/(subjects*100))*100\n",
    "print(per)\n",
    "\n",
    "if per>90.0:\n",
    "    print(\"Hurray..You passed with Distinction\")\n",
    "elif per>80.0 and per<90.0:\n",
    "    print(\"You passed with 'B' Grade.\")\n",
    "elif per>70.0 and per<80.0:\n",
    "    print(\"You passed with 'C' Grade.\")\n",
    "elif per>60.0 and per<70.0:\n",
    "    print(\"You passed with 'D' Grade.\")\n",
    "elif per>45.0 and per<60.0:\n",
    "    print(\"You just passed with 'E' Grade.\")\n",
    "else:\n",
    "    print(\"You Failed.\")"
   ]
  }
 ],
 "metadata": {
  "kernelspec": {
   "display_name": "Python 3",
   "language": "python",
   "name": "python3"
  },
  "language_info": {
   "codemirror_mode": {
    "name": "ipython",
    "version": 3
   },
   "file_extension": ".py",
   "mimetype": "text/x-python",
   "name": "python",
   "nbconvert_exporter": "python",
   "pygments_lexer": "ipython3",
   "version": "3.7.6"
  }
 },
 "nbformat": 4,
 "nbformat_minor": 4
}
